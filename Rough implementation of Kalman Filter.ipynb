{
 "cells": [
  {
   "cell_type": "markdown",
   "id": "ac4b9802",
   "metadata": {},
   "source": [
    "#### Kalman Filter\n",
    "This implementation was made for position and velocity but it can be extended and generalized."
   ]
  },
  {
   "cell_type": "markdown",
   "id": "4ee3c7a1",
   "metadata": {},
   "source": [
    "Initial matrix $\\vec{x} = \\begin{pmatrix} p \\\\ v \\end{pmatrix}$"
   ]
  },
  {
   "cell_type": "code",
   "execution_count": 16,
   "id": "18839474",
   "metadata": {},
   "outputs": [],
   "source": [
    "using Statistics\n",
    "using LinearAlgebra"
   ]
  },
  {
   "cell_type": "code",
   "execution_count": 17,
   "id": "8b2037ee",
   "metadata": {
    "collapsed": true
   },
   "outputs": [
    {
     "ename": "LoadError",
     "evalue": "UndefVarError: p not defined",
     "output_type": "error",
     "traceback": [
      "UndefVarError: p not defined",
      "",
      "Stacktrace:",
      " [1] top-level scope",
      "   @ In[17]:1",
      " [2] eval",
      "   @ .\\boot.jl:360 [inlined]",
      " [3] include_string(mapexpr::typeof(REPL.softscope), mod::Module, code::String, filename::String)",
      "   @ Base .\\loading.jl:1094"
     ]
    }
   ],
   "source": [
    "x = [p,v]\n",
    "P = Symmetric([cov(p,p) cov(p,v); cov(p,v) cov(v,v)])"
   ]
  },
  {
   "cell_type": "markdown",
   "id": "de68b6e4",
   "metadata": {},
   "source": [
    "Now we put the relation between p and v in $F_t$ matrix to compute $t_k$ from $t_{k-1}$\n",
    "\n",
    "t_change is $\\Delta t$"
   ]
  },
  {
   "cell_type": "code",
   "execution_count": 23,
   "id": "aca18d49",
   "metadata": {
    "collapsed": true
   },
   "outputs": [
    {
     "ename": "LoadError",
     "evalue": "UndefVarError: t_change not defined",
     "output_type": "error",
     "traceback": [
      "UndefVarError: t_change not defined",
      "",
      "Stacktrace:",
      " [1] top-level scope",
      "   @ :0",
      " [2] eval",
      "   @ .\\boot.jl:360 [inlined]",
      " [3] include_string(mapexpr::typeof(REPL.softscope), mod::Module, code::String, filename::String)",
      "   @ Base .\\loading.jl:1094"
     ]
    }
   ],
   "source": [
    "t_change\n",
    "F = [1 t_change; 0 1]\n",
    "x_k = F*x\n",
    "\n",
    "#x_k is our prediction matrix \n",
    "\n",
    "P_k = F*P*transpose(F)\n",
    "\n",
    "#P_k is next cor matrix"
   ]
  },
  {
   "cell_type": "markdown",
   "id": "60c83c98",
   "metadata": {},
   "source": [
    "#### External influence \n",
    "\n",
    "If there was an accelaration included, we can include that in our mat\n",
    "\n",
    "$B_k$ is control matrix and $\\vec{u_k}$ is control vector"
   ]
  },
  {
   "cell_type": "code",
   "execution_count": null,
   "id": "20fbe752",
   "metadata": {},
   "outputs": [],
   "source": [
    "# so our new x_k will become \n",
    "# a is the acceleration \n",
    "\n",
    "B = [(t_change^2)/2;t_change] #be the matrix for external infl\n",
    "u = a #be the acceleration mat\n",
    "\n",
    "x_k = x_k + B*u\n"
   ]
  },
  {
   "cell_type": "markdown",
   "id": "73083860",
   "metadata": {},
   "source": [
    "#### External Uncertainty \n",
    "Some external forces can't be tracked so, we always have some uncertainty with $x_k$\n",
    "\n",
    "Let $Q_k$ represent the uncertainty cov matrix "
   ]
  },
  {
   "cell_type": "code",
   "execution_count": null,
   "id": "6c9760c8",
   "metadata": {},
   "outputs": [],
   "source": [
    "P_k = P_k + Q_k"
   ]
  },
  {
   "cell_type": "markdown",
   "id": "e080cda7",
   "metadata": {},
   "source": [
    "#### Refining estimate with measurements\n",
    "To model the sensors, we create $H_k$ with $\\vec{p}$ and $\\vec{v}$\n",
    "\n",
    "Every intital vector to be multiplied with H to establish a relation \n",
    "between sensors and velocity, position.\n",
    "\n",
    "$\\vec{\\mu}_{expected}$ = $H_k\\hat{x}_k$\n",
    "\n",
    "$\\sum_{expected}$ = $H_kP_kH^T_k$"
   ]
  },
  {
   "cell_type": "code",
   "execution_count": null,
   "id": "c6d813d7",
   "metadata": {},
   "outputs": [],
   "source": [
    "H\n",
    "u_0 = H*x_k\n",
    "E_0 = H*P_k*transpose(H)\n"
   ]
  },
  {
   "cell_type": "markdown",
   "id": "ea0e5445",
   "metadata": {},
   "source": [
    "But there can be a mismatch in actual readings vs the deduced reading\n",
    "So, there will be two estimates $H_k\\hat{x}_k$ and $\\vec{z}_k$\n",
    "\n",
    "$(\\mu_0 , \\sum_0 ) = (H_k\\hat{x}_k, H_k+_kH^T_k)$\n",
    "\n",
    "\n",
    "$(\\mu_1, \\sum_1) = (\\vec{z}_k, R_k)$\n",
    "\n",
    "Now, these two will have two different guassian distribution.\n",
    "We take the area which lies in both es1 and es2 (overlapped region)\n",
    "\n",
    "Product of two Gaussians with no correlation has following values\n",
    "$ \\mu^{'} = \\mu_0 + \\frac{\\sigma^2_0(\\mu_1 - \\mu_0)}{\\sigma^2_0 + \\sigma^2_1}$\n",
    "\n",
    "$\\sigma^{'2}_0 = \\sigma^2_0 - \\frac{\\sigma^4_0}{\\sigma^2_0 + \\sigma^2_1}$\n",
    "\n",
    "Let K = $\\frac{\\sigma^2_0}{\\sigma^2_0 + \\sigma^2_1}$"
   ]
  },
  {
   "cell_type": "markdown",
   "id": "1bfe5f7d",
   "metadata": {},
   "source": [
    "$\\begin{equation} \n",
    "\\begin{aligned} \n",
    "\\mathbf{H}_k \\color{royalblue}{\\mathbf{\\hat{x}}_k’} &= \\color{fuchsia}{\\mathbf{H}_k \\mathbf{\\hat{x}}_k} & + & \\color{purple}{\\mathbf{K}} ( \\color{yellowgreen}{\\vec{\\mathbf{z}_k}} – \\color{fuchsia}{\\mathbf{H}_k \\mathbf{\\hat{x}}_k} ) \\\\ \n",
    "\\mathbf{H}_k \\color{royalblue}{\\mathbf{P}_k’} \\mathbf{H}_k^T &= \\color{deeppink}{\\mathbf{H}_k \\mathbf{P}_k \\mathbf{H}_k^T} & – & \\color{purple}{\\mathbf{K}} \\color{deeppink}{\\mathbf{H}_k \\mathbf{P}_k \\mathbf{H}_k^T} \n",
    "\\end{aligned} \\label {kalunsimplified} \n",
    "\\end{equation}$\n",
    "\n",
    "and Kalman Gain is:\n",
    "\n",
    "$\\begin{equation} \\label{eq:kalgainunsimplified} \n",
    "\\color{purple}{\\mathbf{K}} = \\color{deeppink}{\\mathbf{H}_k \\mathbf{P}_k \\mathbf{H}_k^T} ( \\color{deeppink}{\\mathbf{H}_k \\mathbf{P}_k \\mathbf{H}_k^T} + \\color{mediumaquamarine}{\\mathbf{R}_k})^{-1} \n",
    "\\end{equation}$\n",
    "\n",
    "Now, we can remove $H_k$ from every term and we get\n",
    "\n",
    "$\\begin{equation} \n",
    "\\begin{split} \n",
    "\\color{royalblue}{\\mathbf{\\hat{x}}_k’} &= \\color{fuchsia}{\\mathbf{\\hat{x}}_k} & + & \\color{purple}{\\mathbf{K}’} ( \\color{yellowgreen}{\\vec{\\mathbf{z}_k}} – \\color{fuchsia}{\\mathbf{H}_k \\mathbf{\\hat{x}}_k} ) \\\\ \n",
    "\\color{royalblue}{\\mathbf{P}_k’} &= \\color{deeppink}{\\mathbf{P}_k} & – & \\color{purple}{\\mathbf{K}’} \\color{deeppink}{\\mathbf{H}_k \\mathbf{P}_k} \n",
    "\\end{split} \n",
    "\\label{kalupdatefull} \n",
    "    \\end{equation}$"
   ]
  },
  {
   "cell_type": "markdown",
   "id": "1bc2ffc2",
   "metadata": {},
   "source": [
    "<img src = \"https://www.bzarg.com/wp-content/uploads/2015/08/kalflow.png\">"
   ]
  },
  {
   "cell_type": "code",
   "execution_count": null,
   "id": "b4b50a2d",
   "metadata": {},
   "outputs": [],
   "source": [
    "#now we convert previous values in the form of K\n",
    "\n",
    "K = P_k*transpose(H_k)*inv(H_k*P_k*transpose(H_k) + R_k)  \n",
    "\n",
    "x_final = *x_k + K(z_k - H*x_k)\n",
    "P_final = P_k - K*H_k*P_k\n"
   ]
  },
  {
   "cell_type": "code",
   "execution_count": null,
   "id": "fdabc44f",
   "metadata": {},
   "outputs": [],
   "source": []
  },
  {
   "cell_type": "code",
   "execution_count": null,
   "id": "7fbc6ce9",
   "metadata": {},
   "outputs": [],
   "source": []
  },
  {
   "cell_type": "code",
   "execution_count": null,
   "id": "43e38562",
   "metadata": {},
   "outputs": [],
   "source": []
  },
  {
   "cell_type": "code",
   "execution_count": null,
   "id": "29e82cf5",
   "metadata": {},
   "outputs": [],
   "source": []
  },
  {
   "cell_type": "code",
   "execution_count": null,
   "id": "46443635",
   "metadata": {},
   "outputs": [],
   "source": []
  },
  {
   "cell_type": "code",
   "execution_count": null,
   "id": "398ddea8",
   "metadata": {},
   "outputs": [],
   "source": []
  },
  {
   "cell_type": "code",
   "execution_count": null,
   "id": "139d3460",
   "metadata": {},
   "outputs": [],
   "source": []
  },
  {
   "cell_type": "code",
   "execution_count": null,
   "id": "277a0e02",
   "metadata": {},
   "outputs": [],
   "source": []
  }
 ],
 "metadata": {
  "kernelspec": {
   "display_name": "Julia 1.6.0",
   "language": "julia",
   "name": "julia-1.6"
  },
  "language_info": {
   "file_extension": ".jl",
   "mimetype": "application/julia",
   "name": "julia",
   "version": "1.6.0"
  }
 },
 "nbformat": 4,
 "nbformat_minor": 5
}
