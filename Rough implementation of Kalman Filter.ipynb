{
 "cells": [
  {
   "cell_type": "markdown",
   "id": "84efdc71",
   "metadata": {},
   "source": [
    "#### Kalman Filter\n",
    "This implementation was made for position and velocity but it can be extended and generalized."
   ]
  },
  {
   "cell_type": "markdown",
   "id": "b5778ee2",
   "metadata": {},
   "source": [
    "Initial matrix $\\vec{x} = \\begin{pmatrix} p \\\\ v \\end{pmatrix}$"
   ]
  },
  {
   "cell_type": "code",
   "execution_count": 16,
   "id": "0ea05d66",
   "metadata": {},
   "outputs": [],
   "source": [
    "using Statistics\n",
    "using LinearAlgebra"
   ]
  },
  {
   "cell_type": "code",
   "execution_count": 17,
   "id": "38a0354b",
   "metadata": {
    "collapsed": true
   },
   "outputs": [
    {
     "ename": "LoadError",
     "evalue": "UndefVarError: p not defined",
     "output_type": "error",
     "traceback": [
      "UndefVarError: p not defined",
      "",
      "Stacktrace:",
      " [1] top-level scope",
      "   @ In[17]:1",
      " [2] eval",
      "   @ .\\boot.jl:360 [inlined]",
      " [3] include_string(mapexpr::typeof(REPL.softscope), mod::Module, code::String, filename::String)",
      "   @ Base .\\loading.jl:1094"
     ]
    }
   ],
   "source": [
    "x = [p,v]\n",
    "P = Symmetric([cov(p,p) cov(p,v); cov(p,v) cov(v,v)])"
   ]
  },
  {
   "cell_type": "markdown",
   "id": "6875fda8",
   "metadata": {},
   "source": [
    "Now we put the relation between p and v in $F_t$ matrix to compute $t_k$ from $t_{k-1}$\n",
    "\n",
    "t_change is $\\Delta t$"
   ]
  },
  {
   "cell_type": "code",
   "execution_count": 23,
   "id": "daaf1c8e",
   "metadata": {
    "collapsed": true
   },
   "outputs": [
    {
     "ename": "LoadError",
     "evalue": "UndefVarError: t_change not defined",
     "output_type": "error",
     "traceback": [
      "UndefVarError: t_change not defined",
      "",
      "Stacktrace:",
      " [1] top-level scope",
      "   @ :0",
      " [2] eval",
      "   @ .\\boot.jl:360 [inlined]",
      " [3] include_string(mapexpr::typeof(REPL.softscope), mod::Module, code::String, filename::String)",
      "   @ Base .\\loading.jl:1094"
     ]
    }
   ],
   "source": [
    "t_change\n",
    "F = [1 t_change; 0 1]\n",
    "x_k = F*x\n",
    "\n",
    "#x_k is our prediction matrix \n",
    "\n",
    "P_k = F*P*transpose(F)\n",
    "\n",
    "#P_k is next cor matrix"
   ]
  },
  {
   "cell_type": "markdown",
   "id": "656a5eb4",
   "metadata": {},
   "source": [
    "#### External influence \n",
    "\n",
    "If there was an accelaration included, we can include that in our mat\n",
    "\n",
    "$B_k$ is control matrix and $\\vec{u_k}$ is control vector"
   ]
  },
  {
   "cell_type": "code",
   "execution_count": null,
   "id": "0289a32a",
   "metadata": {},
   "outputs": [],
   "source": [
    "# so our new x_k will become \n",
    "# a is the acceleration \n",
    "\n",
    "B = [(t_change^2)/2;t_change] #be the matrix for external infl\n",
    "u = a #be the acceleration mat\n",
    "\n",
    "x_k = x_k + B*u\n"
   ]
  },
  {
   "cell_type": "markdown",
   "id": "152797a7",
   "metadata": {},
   "source": [
    "#### External Uncertainty \n",
    "Some external forces can't be tracked so, we always have some uncertainty with $x_k$\n",
    "\n",
    "Let $Q_k$ represent the uncertainty cov matrix "
   ]
  },
  {
   "cell_type": "code",
   "execution_count": null,
   "id": "46c5de07",
   "metadata": {},
   "outputs": [],
   "source": [
    "P_k = P_k + Q_k"
   ]
  },
  {
   "cell_type": "markdown",
   "id": "d79ca693",
   "metadata": {},
   "source": [
    "#### Refining estimate with measurements\n",
    "To model the sensors, we create $H_k$ with $\\vec{p}$ and $\\vec{v}$\n",
    "\n",
    "Every intital vector to be multiplied with H to establish a relation \n",
    "between sensors and velocity, position.\n",
    "\n",
    "$\\vec{\\mu}_{expected}$ = $H_k\\hat{x}_k$\n",
    "\n",
    "$\\sum_{expected}$ = $H_kP_kH^T_k$"
   ]
  },
  {
   "cell_type": "code",
   "execution_count": null,
   "id": "75bf1b9e",
   "metadata": {},
   "outputs": [],
   "source": [
    "H\n",
    "u_0 = H*x_k\n",
    "E_0 = H*P_k*transpose(H)\n"
   ]
  },
  {
   "cell_type": "markdown",
   "id": "98702a62",
   "metadata": {},
   "source": [
    "But there can be a mismatch in actual readings vs the deduced reading\n",
    "So, there will be two estimates $H_k\\hat{x}_k$ and $\\vec{z}_k$\n",
    "\n",
    "$(\\mu_0 , \\sum_0 ) = (H_k\\hat{x}_k, H_k+_kH^T_k)$\n",
    "\n",
    "\n",
    "$(\\mu_1, \\sum_1) = (\\vec{z}_k, R_k)$\n",
    "\n",
    "Now, these two will have two different guassian distribution.\n",
    "We take the area which lies in both es1 and es2 (overlapped region)\n",
    "\n",
    "Product of two Gaussians with no correlation has following values\n",
    "$ \\mu^{'} = \\mu_0 + \\frac{\\sigma^2_0(\\mu_1 - \\mu_0)}{\\sigma^2_0 + \\sigma^2_1}$\n",
    "\n",
    "$\\sigma^{'2}_0 = \\sigma^2_0 - \\frac{\\sigma^4_0}{\\sigma^2_0 + \\sigma^2_1}$\n",
    "\n",
    "Let K = $\\frac{\\sigma^2_0}{\\sigma^2_0 + \\sigma^2_1}$"
   ]
  },
  {
   "cell_type": "markdown",
   "id": "73a69488",
   "metadata": {},
   "source": [
    "$\\begin{equation} \n",
    "\\begin{aligned} \n",
    "\\mathbf{H}_k \\color{royalblue}{\\mathbf{\\hat{x}}_k’} &= \\color{fuchsia}{\\mathbf{H}_k \\mathbf{\\hat{x}}_k} & + & \\color{purple}{\\mathbf{K}} ( \\color{yellowgreen}{\\vec{\\mathbf{z}_k}} – \\color{fuchsia}{\\mathbf{H}_k \\mathbf{\\hat{x}}_k} ) \\\\ \n",
    "\\mathbf{H}_k \\color{royalblue}{\\mathbf{P}_k’} \\mathbf{H}_k^T &= \\color{deeppink}{\\mathbf{H}_k \\mathbf{P}_k \\mathbf{H}_k^T} & – & \\color{purple}{\\mathbf{K}} \\color{deeppink}{\\mathbf{H}_k \\mathbf{P}_k \\mathbf{H}_k^T} \n",
    "\\end{aligned} \\label {kalunsimplified} \n",
    "\\end{equation}$\n",
    "\n",
    "and Kalman Gain is:\n",
    "\n",
    "$\\begin{equation} \\label{eq:kalgainunsimplified} \n",
    "\\color{purple}{\\mathbf{K}} = \\color{deeppink}{\\mathbf{H}_k \\mathbf{P}_k \\mathbf{H}_k^T} ( \\color{deeppink}{\\mathbf{H}_k \\mathbf{P}_k \\mathbf{H}_k^T} + \\color{mediumaquamarine}{\\mathbf{R}_k})^{-1} \n",
    "\\end{equation}$\n",
    "\n",
    "Now, we can remove $H_k$ from every term and we get\n",
    "\n",
    "$\\begin{equation} \n",
    "\\begin{split} \n",
    "\\color{royalblue}{\\mathbf{\\hat{x}}_k’} &= \\color{fuchsia}{\\mathbf{\\hat{x}}_k} & + & \\color{purple}{\\mathbf{K}’} ( \\color{yellowgreen}{\\vec{\\mathbf{z}_k}} – \\color{fuchsia}{\\mathbf{H}_k \\mathbf{\\hat{x}}_k} ) \\\\ \n",
    "\\color{royalblue}{\\mathbf{P}_k’} &= \\color{deeppink}{\\mathbf{P}_k} & – & \\color{purple}{\\mathbf{K}’} \\color{deeppink}{\\mathbf{H}_k \\mathbf{P}_k} \n",
    "\\end{split} \n",
    "\\label{kalupdatefull} \n",
    "    \\end{equation}$"
   ]
  },
  {
   "cell_type": "markdown",
   "id": "c18644dc",
   "metadata": {},
   "source": [
    "<img src = \"https://www.bzarg.com/wp-content/uploads/2015/08/kalflow.png\">"
   ]
  },
  {
   "cell_type": "code",
   "execution_count": null,
   "id": "3470516a",
   "metadata": {},
   "outputs": [],
   "source": [
    "#now we convert previous values in the form of K\n",
    "\n",
    "K = P_k*transpose(H_k)*inv(H_k*P_k*transpose(H_k) + R_k)  \n",
    "\n",
    "x_final = *x_k + K(z_k - H*x_k)\n",
    "P_final = P_k - K*H_k*P_k\n"
   ]
  },
  {
   "cell_type": "code",
   "execution_count": null,
   "id": "d00a0560",
   "metadata": {},
   "outputs": [],
   "source": []
  },
  {
   "cell_type": "markdown",
   "id": "ac1287df",
   "metadata": {},
   "source": [
    "### Real world implementation "
   ]
  },
  {
   "cell_type": "markdown",
   "id": "bdacbef7",
   "metadata": {},
   "source": [
    "a very simple sensor, one that simulates tracking an object traveling in a straight line. It is initialized with the initial position, velocity, and noise standard deviation. Each call to read() updates the position by one time step and returns the new measurement."
   ]
  },
  {
   "cell_type": "code",
   "execution_count": 142,
   "id": "dbb78233",
   "metadata": {},
   "outputs": [
    {
     "data": {
      "text/plain": [
       "read (generic function with 1 method)"
      ]
     },
     "execution_count": 142,
     "metadata": {},
     "output_type": "execute_result"
    }
   ],
   "source": [
    "mutable struct PosSensor\n",
    "    vel::Vector{Int64} \n",
    "    noise_std::Float64\n",
    "    pos::Vector{Int64}\n",
    "end\n",
    "\n",
    "#creating functions \n",
    "#each call on read updates the position\n",
    "function read(p::PosSensor)\n",
    "    p.pos[1]= p.pos[1] + p.vel[1]\n",
    "    p.pos[2]= p.pos[2] + p.vel[2]\n",
    "    #println(p.pos[1],\" \", p.pos[2], \" randn \", randn())\n",
    "    return [p.pos[1] + randn()*p.noise_std, p.pos[2] + randn()*p.noise_std]\n",
    "end\n",
    "\n"
   ]
  },
  {
   "cell_type": "code",
   "execution_count": 36,
   "id": "14a34ee2",
   "metadata": {},
   "outputs": [
    {
     "data": {
      "text/plain": [
       "Plots.GRBackend()"
      ]
     },
     "execution_count": 36,
     "metadata": {},
     "output_type": "execute_result"
    }
   ],
   "source": [
    "#plotting graph to test\n",
    "using Plots\n",
    "using BlockArrays\n",
    "\n",
    "gr()"
   ]
  },
  {
   "cell_type": "code",
   "execution_count": 143,
   "id": "91406587",
   "metadata": {},
   "outputs": [],
   "source": [
    "pos = [4;3] \n",
    "vel = [2;1]\n",
    "sensor = PosSensor(vel, 1. , pos)\n",
    "x=[]\n",
    "y=[]\n",
    "for i in 1:50\n",
    "    a= read(sensor)\n",
    "    push!(x,a[1])\n",
    "    push!(y,a[2])\n",
    "end\n"
   ]
  },
  {
   "cell_type": "code",
   "execution_count": 144,
   "id": "cfd867e4",
   "metadata": {},
   "outputs": [
    {
     "data": {
      "image/svg+xml": [
       "<?xml version=\"1.0\" encoding=\"utf-8\"?>\n",
       "<svg xmlns=\"http://www.w3.org/2000/svg\" xmlns:xlink=\"http://www.w3.org/1999/xlink\" width=\"600\" height=\"400\" viewBox=\"0 0 2400 1600\">\n",
       "<defs>\n",
       "  <clipPath id=\"clip530\">\n",
       "    <rect x=\"0\" y=\"0\" width=\"2400\" height=\"1600\"/>\n",
       "  </clipPath>\n",
       "</defs>\n",
       "<path clip-path=\"url(#clip530)\" d=\"\n",
       "M0 1600 L2400 1600 L2400 0 L0 0  Z\n",
       "  \" fill=\"#ffffff\" fill-rule=\"evenodd\" fill-opacity=\"1\"/>\n",
       "<defs>\n",
       "  <clipPath id=\"clip531\">\n",
       "    <rect x=\"480\" y=\"0\" width=\"1681\" height=\"1600\"/>\n",
       "  </clipPath>\n",
       "</defs>\n",
       "<path clip-path=\"url(#clip530)\" d=\"\n",
       "M141.853 1486.45 L2352.76 1486.45 L2352.76 47.2441 L141.853 47.2441  Z\n",
       "  \" fill=\"#ffffff\" fill-rule=\"evenodd\" fill-opacity=\"1\"/>\n",
       "<defs>\n",
       "  <clipPath id=\"clip532\">\n",
       "    <rect x=\"141\" y=\"47\" width=\"2212\" height=\"1440\"/>\n",
       "  </clipPath>\n",
       "</defs>\n",
       "<polyline clip-path=\"url(#clip532)\" style=\"stroke:#000000; stroke-width:2; stroke-opacity:0.1; fill:none\" points=\"\n",
       "  549.31,1486.45 549.31,47.2441 \n",
       "  \"/>\n",
       "<polyline clip-path=\"url(#clip532)\" style=\"stroke:#000000; stroke-width:2; stroke-opacity:0.1; fill:none\" points=\"\n",
       "  961.832,1486.45 961.832,47.2441 \n",
       "  \"/>\n",
       "<polyline clip-path=\"url(#clip532)\" style=\"stroke:#000000; stroke-width:2; stroke-opacity:0.1; fill:none\" points=\"\n",
       "  1374.35,1486.45 1374.35,47.2441 \n",
       "  \"/>\n",
       "<polyline clip-path=\"url(#clip532)\" style=\"stroke:#000000; stroke-width:2; stroke-opacity:0.1; fill:none\" points=\"\n",
       "  1786.88,1486.45 1786.88,47.2441 \n",
       "  \"/>\n",
       "<polyline clip-path=\"url(#clip532)\" style=\"stroke:#000000; stroke-width:2; stroke-opacity:0.1; fill:none\" points=\"\n",
       "  2199.4,1486.45 2199.4,47.2441 \n",
       "  \"/>\n",
       "<polyline clip-path=\"url(#clip530)\" style=\"stroke:#000000; stroke-width:4; stroke-opacity:1; fill:none\" points=\"\n",
       "  141.853,1486.45 2352.76,1486.45 \n",
       "  \"/>\n",
       "<polyline clip-path=\"url(#clip530)\" style=\"stroke:#000000; stroke-width:4; stroke-opacity:1; fill:none\" points=\"\n",
       "  549.31,1486.45 549.31,1469.18 \n",
       "  \"/>\n",
       "<polyline clip-path=\"url(#clip530)\" style=\"stroke:#000000; stroke-width:4; stroke-opacity:1; fill:none\" points=\"\n",
       "  961.832,1486.45 961.832,1469.18 \n",
       "  \"/>\n",
       "<polyline clip-path=\"url(#clip530)\" style=\"stroke:#000000; stroke-width:4; stroke-opacity:1; fill:none\" points=\"\n",
       "  1374.35,1486.45 1374.35,1469.18 \n",
       "  \"/>\n",
       "<polyline clip-path=\"url(#clip530)\" style=\"stroke:#000000; stroke-width:4; stroke-opacity:1; fill:none\" points=\"\n",
       "  1786.88,1486.45 1786.88,1469.18 \n",
       "  \"/>\n",
       "<polyline clip-path=\"url(#clip530)\" style=\"stroke:#000000; stroke-width:4; stroke-opacity:1; fill:none\" points=\"\n",
       "  2199.4,1486.45 2199.4,1469.18 \n",
       "  \"/>\n",
       "<path clip-path=\"url(#clip530)\" d=\"M 0 0 M528.084 1543.18 L544.403 1543.18 L544.403 1547.12 L522.459 1547.12 L522.459 1543.18 Q525.121 1540.43 529.704 1535.8 Q534.31 1531.15 535.491 1529.81 Q537.736 1527.28 538.616 1525.55 Q539.519 1523.79 539.519 1522.1 Q539.519 1519.34 537.574 1517.61 Q535.653 1515.87 532.551 1515.87 Q530.352 1515.87 527.898 1516.63 Q525.468 1517.4 522.69 1518.95 L522.69 1514.23 Q525.514 1513.09 527.968 1512.51 Q530.421 1511.93 532.459 1511.93 Q537.829 1511.93 541.023 1514.62 Q544.218 1517.31 544.218 1521.8 Q544.218 1523.93 543.408 1525.85 Q542.62 1527.74 540.514 1530.34 Q539.935 1531.01 536.833 1534.23 Q533.732 1537.42 528.084 1543.18 Z\" fill=\"#000000\" fill-rule=\"evenodd\" fill-opacity=\"1\" /><path clip-path=\"url(#clip530)\" d=\"M 0 0 M564.218 1515.64 Q560.607 1515.64 558.778 1519.2 Q556.972 1522.75 556.972 1529.87 Q556.972 1536.98 558.778 1540.55 Q560.607 1544.09 564.218 1544.09 Q567.852 1544.09 569.657 1540.55 Q571.486 1536.98 571.486 1529.87 Q571.486 1522.75 569.657 1519.2 Q567.852 1515.64 564.218 1515.64 M564.218 1511.93 Q570.028 1511.93 573.083 1516.54 Q576.162 1521.12 576.162 1529.87 Q576.162 1538.6 573.083 1543.21 Q570.028 1547.79 564.218 1547.79 Q558.407 1547.79 555.329 1543.21 Q552.273 1538.6 552.273 1529.87 Q552.273 1521.12 555.329 1516.54 Q558.407 1511.93 564.218 1511.93 Z\" fill=\"#000000\" fill-rule=\"evenodd\" fill-opacity=\"1\" /><path clip-path=\"url(#clip530)\" d=\"M 0 0 M950.003 1516.63 L938.198 1535.08 L950.003 1535.08 L950.003 1516.63 M948.777 1512.56 L954.656 1512.56 L954.656 1535.08 L959.587 1535.08 L959.587 1538.97 L954.656 1538.97 L954.656 1547.12 L950.003 1547.12 L950.003 1538.97 L934.402 1538.97 L934.402 1534.46 L948.777 1512.56 Z\" fill=\"#000000\" fill-rule=\"evenodd\" fill-opacity=\"1\" /><path clip-path=\"url(#clip530)\" d=\"M 0 0 M977.318 1515.64 Q973.707 1515.64 971.878 1519.2 Q970.073 1522.75 970.073 1529.87 Q970.073 1536.98 971.878 1540.55 Q973.707 1544.09 977.318 1544.09 Q980.952 1544.09 982.758 1540.55 Q984.587 1536.98 984.587 1529.87 Q984.587 1522.75 982.758 1519.2 Q980.952 1515.64 977.318 1515.64 M977.318 1511.93 Q983.128 1511.93 986.184 1516.54 Q989.263 1521.12 989.263 1529.87 Q989.263 1538.6 986.184 1543.21 Q983.128 1547.79 977.318 1547.79 Q971.508 1547.79 968.429 1543.21 Q965.374 1538.6 965.374 1529.87 Q965.374 1521.12 968.429 1516.54 Q971.508 1511.93 977.318 1511.93 Z\" fill=\"#000000\" fill-rule=\"evenodd\" fill-opacity=\"1\" /><path clip-path=\"url(#clip530)\" d=\"M 0 0 M1359.76 1527.98 Q1356.61 1527.98 1354.76 1530.13 Q1352.93 1532.28 1352.93 1536.03 Q1352.93 1539.76 1354.76 1541.93 Q1356.61 1544.09 1359.76 1544.09 Q1362.91 1544.09 1364.74 1541.93 Q1366.59 1539.76 1366.59 1536.03 Q1366.59 1532.28 1364.74 1530.13 Q1362.91 1527.98 1359.76 1527.98 M1369.04 1513.32 L1369.04 1517.58 Q1367.28 1516.75 1365.48 1516.31 Q1363.69 1515.87 1361.94 1515.87 Q1357.31 1515.87 1354.85 1519 Q1352.42 1522.12 1352.07 1528.44 Q1353.44 1526.43 1355.5 1525.36 Q1357.56 1524.27 1360.04 1524.27 Q1365.25 1524.27 1368.25 1527.44 Q1371.29 1530.59 1371.29 1536.03 Q1371.29 1541.36 1368.14 1544.57 Q1364.99 1547.79 1359.76 1547.79 Q1353.76 1547.79 1350.59 1543.21 Q1347.42 1538.6 1347.42 1529.87 Q1347.42 1521.68 1351.31 1516.82 Q1355.2 1511.93 1361.75 1511.93 Q1363.51 1511.93 1365.29 1512.28 Q1367.1 1512.63 1369.04 1513.32 Z\" fill=\"#000000\" fill-rule=\"evenodd\" fill-opacity=\"1\" /><path clip-path=\"url(#clip530)\" d=\"M 0 0 M1389.34 1515.64 Q1385.73 1515.64 1383.9 1519.2 Q1382.1 1522.75 1382.1 1529.87 Q1382.1 1536.98 1383.9 1540.55 Q1385.73 1544.09 1389.34 1544.09 Q1392.98 1544.09 1394.78 1540.55 Q1396.61 1536.98 1396.61 1529.87 Q1396.61 1522.75 1394.78 1519.2 Q1392.98 1515.64 1389.34 1515.64 M1389.34 1511.93 Q1395.15 1511.93 1398.21 1516.54 Q1401.29 1521.12 1401.29 1529.87 Q1401.29 1538.6 1398.21 1543.21 Q1395.15 1547.79 1389.34 1547.79 Q1383.53 1547.79 1380.45 1543.21 Q1377.4 1538.6 1377.4 1529.87 Q1377.4 1521.12 1380.45 1516.54 Q1383.53 1511.93 1389.34 1511.93 Z\" fill=\"#000000\" fill-rule=\"evenodd\" fill-opacity=\"1\" /><path clip-path=\"url(#clip530)\" d=\"M 0 0 M1771.75 1530.71 Q1768.42 1530.71 1766.49 1532.49 Q1764.6 1534.27 1764.6 1537.4 Q1764.6 1540.52 1766.49 1542.31 Q1768.42 1544.09 1771.75 1544.09 Q1775.08 1544.09 1777 1542.31 Q1778.92 1540.5 1778.92 1537.4 Q1778.92 1534.27 1777 1532.49 Q1775.11 1530.71 1771.75 1530.71 M1767.07 1528.72 Q1764.06 1527.98 1762.37 1525.92 Q1760.71 1523.86 1760.71 1520.89 Q1760.71 1516.75 1763.65 1514.34 Q1766.61 1511.93 1771.75 1511.93 Q1776.91 1511.93 1779.85 1514.34 Q1782.79 1516.75 1782.79 1520.89 Q1782.79 1523.86 1781.1 1525.92 Q1779.43 1527.98 1776.45 1528.72 Q1779.83 1529.5 1781.7 1531.8 Q1783.6 1534.09 1783.6 1537.4 Q1783.6 1542.42 1780.52 1545.11 Q1777.47 1547.79 1771.75 1547.79 Q1766.03 1547.79 1762.95 1545.11 Q1759.9 1542.42 1759.9 1537.4 Q1759.9 1534.09 1761.79 1531.8 Q1763.69 1529.5 1767.07 1528.72 M1765.36 1521.33 Q1765.36 1524.02 1767.03 1525.52 Q1768.72 1527.03 1771.75 1527.03 Q1774.76 1527.03 1776.45 1525.52 Q1778.16 1524.02 1778.16 1521.33 Q1778.16 1518.65 1776.45 1517.14 Q1774.76 1515.64 1771.75 1515.64 Q1768.72 1515.64 1767.03 1517.14 Q1765.36 1518.65 1765.36 1521.33 Z\" fill=\"#000000\" fill-rule=\"evenodd\" fill-opacity=\"1\" /><path clip-path=\"url(#clip530)\" d=\"M 0 0 M1801.91 1515.64 Q1798.3 1515.64 1796.47 1519.2 Q1794.67 1522.75 1794.67 1529.87 Q1794.67 1536.98 1796.47 1540.55 Q1798.3 1544.09 1801.91 1544.09 Q1805.54 1544.09 1807.35 1540.55 Q1809.18 1536.98 1809.18 1529.87 Q1809.18 1522.75 1807.35 1519.2 Q1805.54 1515.64 1801.91 1515.64 M1801.91 1511.93 Q1807.72 1511.93 1810.78 1516.54 Q1813.85 1521.12 1813.85 1529.87 Q1813.85 1538.6 1810.78 1543.21 Q1807.72 1547.79 1801.91 1547.79 Q1796.1 1547.79 1793.02 1543.21 Q1789.97 1538.6 1789.97 1529.87 Q1789.97 1521.12 1793.02 1516.54 Q1796.1 1511.93 1801.91 1511.93 Z\" fill=\"#000000\" fill-rule=\"evenodd\" fill-opacity=\"1\" /><path clip-path=\"url(#clip530)\" d=\"M 0 0 M2159 1543.18 L2166.64 1543.18 L2166.64 1516.82 L2158.33 1518.49 L2158.33 1514.23 L2166.6 1512.56 L2171.27 1512.56 L2171.27 1543.18 L2178.91 1543.18 L2178.91 1547.12 L2159 1547.12 L2159 1543.18 Z\" fill=\"#000000\" fill-rule=\"evenodd\" fill-opacity=\"1\" /><path clip-path=\"url(#clip530)\" d=\"M 0 0 M2198.36 1515.64 Q2194.74 1515.64 2192.92 1519.2 Q2191.11 1522.75 2191.11 1529.87 Q2191.11 1536.98 2192.92 1540.55 Q2194.74 1544.09 2198.36 1544.09 Q2201.99 1544.09 2203.8 1540.55 Q2205.62 1536.98 2205.62 1529.87 Q2205.62 1522.75 2203.8 1519.2 Q2201.99 1515.64 2198.36 1515.64 M2198.36 1511.93 Q2204.17 1511.93 2207.22 1516.54 Q2210.3 1521.12 2210.3 1529.87 Q2210.3 1538.6 2207.22 1543.21 Q2204.17 1547.79 2198.36 1547.79 Q2192.55 1547.79 2189.47 1543.21 Q2186.41 1538.6 2186.41 1529.87 Q2186.41 1521.12 2189.47 1516.54 Q2192.55 1511.93 2198.36 1511.93 Z\" fill=\"#000000\" fill-rule=\"evenodd\" fill-opacity=\"1\" /><path clip-path=\"url(#clip530)\" d=\"M 0 0 M2228.52 1515.64 Q2224.91 1515.64 2223.08 1519.2 Q2221.27 1522.75 2221.27 1529.87 Q2221.27 1536.98 2223.08 1540.55 Q2224.91 1544.09 2228.52 1544.09 Q2232.15 1544.09 2233.96 1540.55 Q2235.79 1536.98 2235.79 1529.87 Q2235.79 1522.75 2233.96 1519.2 Q2232.15 1515.64 2228.52 1515.64 M2228.52 1511.93 Q2234.33 1511.93 2237.38 1516.54 Q2240.46 1521.12 2240.46 1529.87 Q2240.46 1538.6 2237.38 1543.21 Q2234.33 1547.79 2228.52 1547.79 Q2222.71 1547.79 2219.63 1543.21 Q2216.57 1538.6 2216.57 1529.87 Q2216.57 1521.12 2219.63 1516.54 Q2222.71 1511.93 2228.52 1511.93 Z\" fill=\"#000000\" fill-rule=\"evenodd\" fill-opacity=\"1\" /><polyline clip-path=\"url(#clip532)\" style=\"stroke:#000000; stroke-width:2; stroke-opacity:0.1; fill:none\" points=\"\n",
       "  141.853,1287.68 2352.76,1287.68 \n",
       "  \"/>\n",
       "<polyline clip-path=\"url(#clip532)\" style=\"stroke:#000000; stroke-width:2; stroke-opacity:0.1; fill:none\" points=\"\n",
       "  141.853,1006.06 2352.76,1006.06 \n",
       "  \"/>\n",
       "<polyline clip-path=\"url(#clip532)\" style=\"stroke:#000000; stroke-width:2; stroke-opacity:0.1; fill:none\" points=\"\n",
       "  141.853,724.44 2352.76,724.44 \n",
       "  \"/>\n",
       "<polyline clip-path=\"url(#clip532)\" style=\"stroke:#000000; stroke-width:2; stroke-opacity:0.1; fill:none\" points=\"\n",
       "  141.853,442.818 2352.76,442.818 \n",
       "  \"/>\n",
       "<polyline clip-path=\"url(#clip532)\" style=\"stroke:#000000; stroke-width:2; stroke-opacity:0.1; fill:none\" points=\"\n",
       "  141.853,161.197 2352.76,161.197 \n",
       "  \"/>\n",
       "<polyline clip-path=\"url(#clip530)\" style=\"stroke:#000000; stroke-width:4; stroke-opacity:1; fill:none\" points=\"\n",
       "  141.853,1486.45 141.853,47.2441 \n",
       "  \"/>\n",
       "<polyline clip-path=\"url(#clip530)\" style=\"stroke:#000000; stroke-width:4; stroke-opacity:1; fill:none\" points=\"\n",
       "  141.853,1287.68 168.384,1287.68 \n",
       "  \"/>\n",
       "<polyline clip-path=\"url(#clip530)\" style=\"stroke:#000000; stroke-width:4; stroke-opacity:1; fill:none\" points=\"\n",
       "  141.853,1006.06 168.384,1006.06 \n",
       "  \"/>\n",
       "<polyline clip-path=\"url(#clip530)\" style=\"stroke:#000000; stroke-width:4; stroke-opacity:1; fill:none\" points=\"\n",
       "  141.853,724.44 168.384,724.44 \n",
       "  \"/>\n",
       "<polyline clip-path=\"url(#clip530)\" style=\"stroke:#000000; stroke-width:4; stroke-opacity:1; fill:none\" points=\"\n",
       "  141.853,442.818 168.384,442.818 \n",
       "  \"/>\n",
       "<polyline clip-path=\"url(#clip530)\" style=\"stroke:#000000; stroke-width:4; stroke-opacity:1; fill:none\" points=\"\n",
       "  141.853,161.197 168.384,161.197 \n",
       "  \"/>\n",
       "<path clip-path=\"url(#clip530)\" d=\"M 0 0 M54.5569 1301.03 L62.1958 1301.03 L62.1958 1274.66 L53.8856 1276.33 L53.8856 1272.07 L62.1495 1270.4 L66.8254 1270.4 L66.8254 1301.03 L74.4642 1301.03 L74.4642 1304.96 L54.5569 1304.96 L54.5569 1301.03 Z\" fill=\"#000000\" fill-rule=\"evenodd\" fill-opacity=\"1\" /><path clip-path=\"url(#clip530)\" d=\"M 0 0 M93.9086 1273.48 Q90.2975 1273.48 88.4688 1277.05 Q86.6632 1280.59 86.6632 1287.72 Q86.6632 1294.82 88.4688 1298.39 Q90.2975 1301.93 93.9086 1301.93 Q97.5428 1301.93 99.3483 1298.39 Q101.177 1294.82 101.177 1287.72 Q101.177 1280.59 99.3483 1277.05 Q97.5428 1273.48 93.9086 1273.48 M93.9086 1269.78 Q99.7187 1269.78 102.774 1274.38 Q105.853 1278.97 105.853 1287.72 Q105.853 1296.44 102.774 1301.05 Q99.7187 1305.63 93.9086 1305.63 Q88.0984 1305.63 85.0197 1301.05 Q81.9642 1296.44 81.9642 1287.72 Q81.9642 1278.97 85.0197 1274.38 Q88.0984 1269.78 93.9086 1269.78 Z\" fill=\"#000000\" fill-rule=\"evenodd\" fill-opacity=\"1\" /><path clip-path=\"url(#clip530)\" d=\"M 0 0 M57.7745 1019.41 L74.0939 1019.41 L74.0939 1023.34 L52.1495 1023.34 L52.1495 1019.41 Q54.8115 1016.65 59.3949 1012.02 Q64.0013 1007.37 65.1819 1006.03 Q67.4272 1003.5 68.3068 1001.77 Q69.2096 1000.01 69.2096 998.318 Q69.2096 995.563 67.2652 993.827 Q65.3439 992.091 62.2421 992.091 Q60.043 992.091 57.5893 992.855 Q55.1588 993.619 52.381 995.17 L52.381 990.448 Q55.2051 989.313 57.6588 988.735 Q60.1124 988.156 62.1495 988.156 Q67.5198 988.156 70.7142 990.841 Q73.9087 993.526 73.9087 998.017 Q73.9087 1000.15 73.0985 1002.07 Q72.3115 1003.97 70.205 1006.56 Q69.6263 1007.23 66.5245 1010.45 Q63.4226 1013.64 57.7745 1019.41 Z\" fill=\"#000000\" fill-rule=\"evenodd\" fill-opacity=\"1\" /><path clip-path=\"url(#clip530)\" d=\"M 0 0 M93.9086 991.86 Q90.2975 991.86 88.4688 995.424 Q86.6632 998.966 86.6632 1006.1 Q86.6632 1013.2 88.4688 1016.77 Q90.2975 1020.31 93.9086 1020.31 Q97.5428 1020.31 99.3483 1016.77 Q101.177 1013.2 101.177 1006.1 Q101.177 998.966 99.3483 995.424 Q97.5428 991.86 93.9086 991.86 M93.9086 988.156 Q99.7187 988.156 102.774 992.762 Q105.853 997.346 105.853 1006.1 Q105.853 1014.82 102.774 1019.43 Q99.7187 1024.01 93.9086 1024.01 Q88.0984 1024.01 85.0197 1019.43 Q81.9642 1014.82 81.9642 1006.1 Q81.9642 997.346 85.0197 992.762 Q88.0984 988.156 93.9086 988.156 Z\" fill=\"#000000\" fill-rule=\"evenodd\" fill-opacity=\"1\" /><path clip-path=\"url(#clip530)\" d=\"M 0 0 M67.9133 723.085 Q71.2698 723.803 73.1448 726.072 Q75.0429 728.34 75.0429 731.673 Q75.0429 736.789 71.5244 739.59 Q68.0059 742.391 61.5245 742.391 Q59.3486 742.391 57.0338 741.951 Q54.7421 741.534 52.2884 740.678 L52.2884 736.164 Q54.2328 737.298 56.5477 737.877 Q58.8625 738.456 61.3856 738.456 Q65.7837 738.456 68.0754 736.72 Q70.3902 734.984 70.3902 731.673 Q70.3902 728.618 68.2374 726.905 Q66.1078 725.169 62.2884 725.169 L58.2606 725.169 L58.2606 721.326 L62.4735 721.326 Q65.9226 721.326 67.7513 719.961 Q69.58 718.572 69.58 715.979 Q69.58 713.317 67.6819 711.905 Q65.8069 710.47 62.2884 710.47 Q60.3671 710.47 58.168 710.886 Q55.969 711.303 53.3301 712.183 L53.3301 708.016 Q55.9921 707.275 58.3069 706.905 Q60.6449 706.535 62.705 706.535 Q68.0291 706.535 71.1309 708.965 Q74.2327 711.373 74.2327 715.493 Q74.2327 718.363 72.5892 720.354 Q70.9457 722.322 67.9133 723.085 Z\" fill=\"#000000\" fill-rule=\"evenodd\" fill-opacity=\"1\" /><path clip-path=\"url(#clip530)\" d=\"M 0 0 M93.9086 710.238 Q90.2975 710.238 88.4688 713.803 Q86.6632 717.345 86.6632 724.474 Q86.6632 731.581 88.4688 735.146 Q90.2975 738.687 93.9086 738.687 Q97.5428 738.687 99.3483 735.146 Q101.177 731.581 101.177 724.474 Q101.177 717.345 99.3483 713.803 Q97.5428 710.238 93.9086 710.238 M93.9086 706.535 Q99.7187 706.535 102.774 711.141 Q105.853 715.724 105.853 724.474 Q105.853 733.201 102.774 737.808 Q99.7187 742.391 93.9086 742.391 Q88.0984 742.391 85.0197 737.808 Q81.9642 733.201 81.9642 724.474 Q81.9642 715.724 85.0197 711.141 Q88.0984 706.535 93.9086 706.535 Z\" fill=\"#000000\" fill-rule=\"evenodd\" fill-opacity=\"1\" /><path clip-path=\"url(#clip530)\" d=\"M 0 0 M66.5939 429.612 L54.7884 448.061 L66.5939 448.061 L66.5939 429.612 M65.367 425.538 L71.2466 425.538 L71.2466 448.061 L76.1772 448.061 L76.1772 451.95 L71.2466 451.95 L71.2466 460.098 L66.5939 460.098 L66.5939 451.95 L50.9921 451.95 L50.9921 447.436 L65.367 425.538 Z\" fill=\"#000000\" fill-rule=\"evenodd\" fill-opacity=\"1\" /><path clip-path=\"url(#clip530)\" d=\"M 0 0 M93.9086 428.617 Q90.2975 428.617 88.4688 432.182 Q86.6632 435.724 86.6632 442.853 Q86.6632 449.96 88.4688 453.524 Q90.2975 457.066 93.9086 457.066 Q97.5428 457.066 99.3483 453.524 Q101.177 449.96 101.177 442.853 Q101.177 435.724 99.3483 432.182 Q97.5428 428.617 93.9086 428.617 M93.9086 424.913 Q99.7187 424.913 102.774 429.52 Q105.853 434.103 105.853 442.853 Q105.853 451.58 102.774 456.186 Q99.7187 460.77 93.9086 460.77 Q88.0984 460.77 85.0197 456.186 Q81.9642 451.58 81.9642 442.853 Q81.9642 434.103 85.0197 429.52 Q88.0984 424.913 93.9086 424.913 Z\" fill=\"#000000\" fill-rule=\"evenodd\" fill-opacity=\"1\" /><path clip-path=\"url(#clip530)\" d=\"M 0 0 M53.793 143.917 L72.1494 143.917 L72.1494 147.852 L58.0754 147.852 L58.0754 156.324 Q59.0939 155.977 60.1124 155.815 Q61.131 155.63 62.1495 155.63 Q67.9365 155.63 71.3161 158.801 Q74.6957 161.973 74.6957 167.389 Q74.6957 172.968 71.2235 176.07 Q67.7513 179.148 61.4319 179.148 Q59.256 179.148 56.9875 178.778 Q54.7421 178.408 52.3347 177.667 L52.3347 172.968 Q54.418 174.102 56.6402 174.658 Q58.8625 175.213 61.3393 175.213 Q65.3439 175.213 67.6819 173.107 Q70.0198 171 70.0198 167.389 Q70.0198 163.778 67.6819 161.672 Q65.3439 159.565 61.3393 159.565 Q59.4643 159.565 57.5893 159.982 Q55.7375 160.399 53.793 161.278 L53.793 143.917 Z\" fill=\"#000000\" fill-rule=\"evenodd\" fill-opacity=\"1\" /><path clip-path=\"url(#clip530)\" d=\"M 0 0 M93.9086 146.996 Q90.2975 146.996 88.4688 150.561 Q86.6632 154.102 86.6632 161.232 Q86.6632 168.338 88.4688 171.903 Q90.2975 175.445 93.9086 175.445 Q97.5428 175.445 99.3483 171.903 Q101.177 168.338 101.177 161.232 Q101.177 154.102 99.3483 150.561 Q97.5428 146.996 93.9086 146.996 M93.9086 143.292 Q99.7187 143.292 102.774 147.899 Q105.853 152.482 105.853 161.232 Q105.853 169.959 102.774 174.565 Q99.7187 179.148 93.9086 179.148 Q88.0984 179.148 85.0197 174.565 Q81.9642 169.959 81.9642 161.232 Q81.9642 152.482 85.0197 147.899 Q88.0984 143.292 93.9086 143.292 Z\" fill=\"#000000\" fill-rule=\"evenodd\" fill-opacity=\"1\" /><circle clip-path=\"url(#clip532)\" cx=\"204.426\" cy=\"1420.11\" r=\"14\" fill=\"#009af9\" fill-rule=\"evenodd\" fill-opacity=\"1\" stroke=\"#000000\" stroke-opacity=\"1\" stroke-width=\"3.2\"/>\n",
       "<circle clip-path=\"url(#clip532)\" cx=\"317.047\" cy=\"1445.72\" r=\"14\" fill=\"#009af9\" fill-rule=\"evenodd\" fill-opacity=\"1\" stroke=\"#000000\" stroke-opacity=\"1\" stroke-width=\"3.2\"/>\n",
       "<circle clip-path=\"url(#clip532)\" cx=\"329.858\" cy=\"1413.26\" r=\"14\" fill=\"#009af9\" fill-rule=\"evenodd\" fill-opacity=\"1\" stroke=\"#000000\" stroke-opacity=\"1\" stroke-width=\"3.2\"/>\n",
       "<circle clip-path=\"url(#clip532)\" cx=\"371.317\" cy=\"1299.52\" r=\"14\" fill=\"#009af9\" fill-rule=\"evenodd\" fill-opacity=\"1\" stroke=\"#000000\" stroke-opacity=\"1\" stroke-width=\"3.2\"/>\n",
       "<circle clip-path=\"url(#clip532)\" cx=\"414.556\" cy=\"1365.81\" r=\"14\" fill=\"#009af9\" fill-rule=\"evenodd\" fill-opacity=\"1\" stroke=\"#000000\" stroke-opacity=\"1\" stroke-width=\"3.2\"/>\n",
       "<circle clip-path=\"url(#clip532)\" cx=\"463.9\" cy=\"1314.64\" r=\"14\" fill=\"#009af9\" fill-rule=\"evenodd\" fill-opacity=\"1\" stroke=\"#000000\" stroke-opacity=\"1\" stroke-width=\"3.2\"/>\n",
       "<circle clip-path=\"url(#clip532)\" cx=\"489.98\" cy=\"1324.23\" r=\"14\" fill=\"#009af9\" fill-rule=\"evenodd\" fill-opacity=\"1\" stroke=\"#000000\" stroke-opacity=\"1\" stroke-width=\"3.2\"/>\n",
       "<circle clip-path=\"url(#clip532)\" cx=\"546.178\" cy=\"1252.54\" r=\"14\" fill=\"#009af9\" fill-rule=\"evenodd\" fill-opacity=\"1\" stroke=\"#000000\" stroke-opacity=\"1\" stroke-width=\"3.2\"/>\n",
       "<circle clip-path=\"url(#clip532)\" cx=\"562.025\" cy=\"1243.61\" r=\"14\" fill=\"#009af9\" fill-rule=\"evenodd\" fill-opacity=\"1\" stroke=\"#000000\" stroke-opacity=\"1\" stroke-width=\"3.2\"/>\n",
       "<circle clip-path=\"url(#clip532)\" cx=\"619.935\" cy=\"1204.46\" r=\"14\" fill=\"#009af9\" fill-rule=\"evenodd\" fill-opacity=\"1\" stroke=\"#000000\" stroke-opacity=\"1\" stroke-width=\"3.2\"/>\n",
       "<circle clip-path=\"url(#clip532)\" cx=\"707.265\" cy=\"1178.24\" r=\"14\" fill=\"#009af9\" fill-rule=\"evenodd\" fill-opacity=\"1\" stroke=\"#000000\" stroke-opacity=\"1\" stroke-width=\"3.2\"/>\n",
       "<circle clip-path=\"url(#clip532)\" cx=\"718.265\" cy=\"1201\" r=\"14\" fill=\"#009af9\" fill-rule=\"evenodd\" fill-opacity=\"1\" stroke=\"#000000\" stroke-opacity=\"1\" stroke-width=\"3.2\"/>\n",
       "<circle clip-path=\"url(#clip532)\" cx=\"754.379\" cy=\"1145.86\" r=\"14\" fill=\"#009af9\" fill-rule=\"evenodd\" fill-opacity=\"1\" stroke=\"#000000\" stroke-opacity=\"1\" stroke-width=\"3.2\"/>\n",
       "<circle clip-path=\"url(#clip532)\" cx=\"781.151\" cy=\"1115.88\" r=\"14\" fill=\"#009af9\" fill-rule=\"evenodd\" fill-opacity=\"1\" stroke=\"#000000\" stroke-opacity=\"1\" stroke-width=\"3.2\"/>\n",
       "<circle clip-path=\"url(#clip532)\" cx=\"812.14\" cy=\"1037.93\" r=\"14\" fill=\"#009af9\" fill-rule=\"evenodd\" fill-opacity=\"1\" stroke=\"#000000\" stroke-opacity=\"1\" stroke-width=\"3.2\"/>\n",
       "<circle clip-path=\"url(#clip532)\" cx=\"865.183\" cy=\"1026.71\" r=\"14\" fill=\"#009af9\" fill-rule=\"evenodd\" fill-opacity=\"1\" stroke=\"#000000\" stroke-opacity=\"1\" stroke-width=\"3.2\"/>\n",
       "<circle clip-path=\"url(#clip532)\" cx=\"920.377\" cy=\"983.339\" r=\"14\" fill=\"#009af9\" fill-rule=\"evenodd\" fill-opacity=\"1\" stroke=\"#000000\" stroke-opacity=\"1\" stroke-width=\"3.2\"/>\n",
       "<circle clip-path=\"url(#clip532)\" cx=\"968.564\" cy=\"949.059\" r=\"14\" fill=\"#009af9\" fill-rule=\"evenodd\" fill-opacity=\"1\" stroke=\"#000000\" stroke-opacity=\"1\" stroke-width=\"3.2\"/>\n",
       "<circle clip-path=\"url(#clip532)\" cx=\"980.655\" cy=\"961.728\" r=\"14\" fill=\"#009af9\" fill-rule=\"evenodd\" fill-opacity=\"1\" stroke=\"#000000\" stroke-opacity=\"1\" stroke-width=\"3.2\"/>\n",
       "<circle clip-path=\"url(#clip532)\" cx=\"1010.14\" cy=\"943.742\" r=\"14\" fill=\"#009af9\" fill-rule=\"evenodd\" fill-opacity=\"1\" stroke=\"#000000\" stroke-opacity=\"1\" stroke-width=\"3.2\"/>\n",
       "<circle clip-path=\"url(#clip532)\" cx=\"1059.8\" cy=\"877.492\" r=\"14\" fill=\"#009af9\" fill-rule=\"evenodd\" fill-opacity=\"1\" stroke=\"#000000\" stroke-opacity=\"1\" stroke-width=\"3.2\"/>\n",
       "<circle clip-path=\"url(#clip532)\" cx=\"1134.08\" cy=\"890.172\" r=\"14\" fill=\"#009af9\" fill-rule=\"evenodd\" fill-opacity=\"1\" stroke=\"#000000\" stroke-opacity=\"1\" stroke-width=\"3.2\"/>\n",
       "<circle clip-path=\"url(#clip532)\" cx=\"1136.23\" cy=\"835.929\" r=\"14\" fill=\"#009af9\" fill-rule=\"evenodd\" fill-opacity=\"1\" stroke=\"#000000\" stroke-opacity=\"1\" stroke-width=\"3.2\"/>\n",
       "<circle clip-path=\"url(#clip532)\" cx=\"1183.09\" cy=\"827.409\" r=\"14\" fill=\"#009af9\" fill-rule=\"evenodd\" fill-opacity=\"1\" stroke=\"#000000\" stroke-opacity=\"1\" stroke-width=\"3.2\"/>\n",
       "<circle clip-path=\"url(#clip532)\" cx=\"1254.12\" cy=\"723.599\" r=\"14\" fill=\"#009af9\" fill-rule=\"evenodd\" fill-opacity=\"1\" stroke=\"#000000\" stroke-opacity=\"1\" stroke-width=\"3.2\"/>\n",
       "<circle clip-path=\"url(#clip532)\" cx=\"1285.74\" cy=\"770.119\" r=\"14\" fill=\"#009af9\" fill-rule=\"evenodd\" fill-opacity=\"1\" stroke=\"#000000\" stroke-opacity=\"1\" stroke-width=\"3.2\"/>\n",
       "<circle clip-path=\"url(#clip532)\" cx=\"1310.14\" cy=\"705.98\" r=\"14\" fill=\"#009af9\" fill-rule=\"evenodd\" fill-opacity=\"1\" stroke=\"#000000\" stroke-opacity=\"1\" stroke-width=\"3.2\"/>\n",
       "<circle clip-path=\"url(#clip532)\" cx=\"1378.62\" cy=\"658.606\" r=\"14\" fill=\"#009af9\" fill-rule=\"evenodd\" fill-opacity=\"1\" stroke=\"#000000\" stroke-opacity=\"1\" stroke-width=\"3.2\"/>\n",
       "<circle clip-path=\"url(#clip532)\" cx=\"1374.53\" cy=\"702.382\" r=\"14\" fill=\"#009af9\" fill-rule=\"evenodd\" fill-opacity=\"1\" stroke=\"#000000\" stroke-opacity=\"1\" stroke-width=\"3.2\"/>\n",
       "<circle clip-path=\"url(#clip532)\" cx=\"1422.86\" cy=\"656.697\" r=\"14\" fill=\"#009af9\" fill-rule=\"evenodd\" fill-opacity=\"1\" stroke=\"#000000\" stroke-opacity=\"1\" stroke-width=\"3.2\"/>\n",
       "<circle clip-path=\"url(#clip532)\" cx=\"1483.06\" cy=\"596.261\" r=\"14\" fill=\"#009af9\" fill-rule=\"evenodd\" fill-opacity=\"1\" stroke=\"#000000\" stroke-opacity=\"1\" stroke-width=\"3.2\"/>\n",
       "<circle clip-path=\"url(#clip532)\" cx=\"1516.89\" cy=\"622.359\" r=\"14\" fill=\"#009af9\" fill-rule=\"evenodd\" fill-opacity=\"1\" stroke=\"#000000\" stroke-opacity=\"1\" stroke-width=\"3.2\"/>\n",
       "<circle clip-path=\"url(#clip532)\" cx=\"1592.09\" cy=\"567.581\" r=\"14\" fill=\"#009af9\" fill-rule=\"evenodd\" fill-opacity=\"1\" stroke=\"#000000\" stroke-opacity=\"1\" stroke-width=\"3.2\"/>\n",
       "<circle clip-path=\"url(#clip532)\" cx=\"1658.45\" cy=\"550.18\" r=\"14\" fill=\"#009af9\" fill-rule=\"evenodd\" fill-opacity=\"1\" stroke=\"#000000\" stroke-opacity=\"1\" stroke-width=\"3.2\"/>\n",
       "<circle clip-path=\"url(#clip532)\" cx=\"1670.8\" cy=\"490.015\" r=\"14\" fill=\"#009af9\" fill-rule=\"evenodd\" fill-opacity=\"1\" stroke=\"#000000\" stroke-opacity=\"1\" stroke-width=\"3.2\"/>\n",
       "<circle clip-path=\"url(#clip532)\" cx=\"1688.28\" cy=\"475.013\" r=\"14\" fill=\"#009af9\" fill-rule=\"evenodd\" fill-opacity=\"1\" stroke=\"#000000\" stroke-opacity=\"1\" stroke-width=\"3.2\"/>\n",
       "<circle clip-path=\"url(#clip532)\" cx=\"1773.66\" cy=\"457.658\" r=\"14\" fill=\"#009af9\" fill-rule=\"evenodd\" fill-opacity=\"1\" stroke=\"#000000\" stroke-opacity=\"1\" stroke-width=\"3.2\"/>\n",
       "<circle clip-path=\"url(#clip532)\" cx=\"1770.76\" cy=\"402.183\" r=\"14\" fill=\"#009af9\" fill-rule=\"evenodd\" fill-opacity=\"1\" stroke=\"#000000\" stroke-opacity=\"1\" stroke-width=\"3.2\"/>\n",
       "<circle clip-path=\"url(#clip532)\" cx=\"1857.55\" cy=\"402.99\" r=\"14\" fill=\"#009af9\" fill-rule=\"evenodd\" fill-opacity=\"1\" stroke=\"#000000\" stroke-opacity=\"1\" stroke-width=\"3.2\"/>\n",
       "<circle clip-path=\"url(#clip532)\" cx=\"1836.6\" cy=\"368.3\" r=\"14\" fill=\"#009af9\" fill-rule=\"evenodd\" fill-opacity=\"1\" stroke=\"#000000\" stroke-opacity=\"1\" stroke-width=\"3.2\"/>\n",
       "<circle clip-path=\"url(#clip532)\" cx=\"1922.9\" cy=\"378.483\" r=\"14\" fill=\"#009af9\" fill-rule=\"evenodd\" fill-opacity=\"1\" stroke=\"#000000\" stroke-opacity=\"1\" stroke-width=\"3.2\"/>\n",
       "<circle clip-path=\"url(#clip532)\" cx=\"1954.01\" cy=\"327.768\" r=\"14\" fill=\"#009af9\" fill-rule=\"evenodd\" fill-opacity=\"1\" stroke=\"#000000\" stroke-opacity=\"1\" stroke-width=\"3.2\"/>\n",
       "<circle clip-path=\"url(#clip532)\" cx=\"1978.52\" cy=\"287.81\" r=\"14\" fill=\"#009af9\" fill-rule=\"evenodd\" fill-opacity=\"1\" stroke=\"#000000\" stroke-opacity=\"1\" stroke-width=\"3.2\"/>\n",
       "<circle clip-path=\"url(#clip532)\" cx=\"2009.86\" cy=\"290.257\" r=\"14\" fill=\"#009af9\" fill-rule=\"evenodd\" fill-opacity=\"1\" stroke=\"#000000\" stroke-opacity=\"1\" stroke-width=\"3.2\"/>\n",
       "<circle clip-path=\"url(#clip532)\" cx=\"2061.9\" cy=\"270.136\" r=\"14\" fill=\"#009af9\" fill-rule=\"evenodd\" fill-opacity=\"1\" stroke=\"#000000\" stroke-opacity=\"1\" stroke-width=\"3.2\"/>\n",
       "<circle clip-path=\"url(#clip532)\" cx=\"2107.4\" cy=\"176.033\" r=\"14\" fill=\"#009af9\" fill-rule=\"evenodd\" fill-opacity=\"1\" stroke=\"#000000\" stroke-opacity=\"1\" stroke-width=\"3.2\"/>\n",
       "<circle clip-path=\"url(#clip532)\" cx=\"2128.2\" cy=\"201.488\" r=\"14\" fill=\"#009af9\" fill-rule=\"evenodd\" fill-opacity=\"1\" stroke=\"#000000\" stroke-opacity=\"1\" stroke-width=\"3.2\"/>\n",
       "<circle clip-path=\"url(#clip532)\" cx=\"2209.15\" cy=\"139.084\" r=\"14\" fill=\"#009af9\" fill-rule=\"evenodd\" fill-opacity=\"1\" stroke=\"#000000\" stroke-opacity=\"1\" stroke-width=\"3.2\"/>\n",
       "<circle clip-path=\"url(#clip532)\" cx=\"2274.35\" cy=\"99.431\" r=\"14\" fill=\"#009af9\" fill-rule=\"evenodd\" fill-opacity=\"1\" stroke=\"#000000\" stroke-opacity=\"1\" stroke-width=\"3.2\"/>\n",
       "<circle clip-path=\"url(#clip532)\" cx=\"2290.18\" cy=\"87.9763\" r=\"14\" fill=\"#009af9\" fill-rule=\"evenodd\" fill-opacity=\"1\" stroke=\"#000000\" stroke-opacity=\"1\" stroke-width=\"3.2\"/>\n",
       "<path clip-path=\"url(#clip530)\" d=\"\n",
       "M1980.97 216.178 L2279.06 216.178 L2279.06 95.2176 L1980.97 95.2176  Z\n",
       "  \" fill=\"#ffffff\" fill-rule=\"evenodd\" fill-opacity=\"1\"/>\n",
       "<polyline clip-path=\"url(#clip530)\" style=\"stroke:#000000; stroke-width:4; stroke-opacity:1; fill:none\" points=\"\n",
       "  1980.97,216.178 2279.06,216.178 2279.06,95.2176 1980.97,95.2176 1980.97,216.178 \n",
       "  \"/>\n",
       "<circle clip-path=\"url(#clip530)\" cx=\"2079.24\" cy=\"155.698\" r=\"23\" fill=\"#009af9\" fill-rule=\"evenodd\" fill-opacity=\"1\" stroke=\"#000000\" stroke-opacity=\"1\" stroke-width=\"5.12\"/>\n",
       "<path clip-path=\"url(#clip530)\" d=\"M 0 0 M2191.34 175.385 Q2189.53 180.015 2187.82 181.427 Q2186.11 182.839 2183.24 182.839 L2179.84 182.839 L2179.84 179.274 L2182.34 179.274 Q2184.09 179.274 2185.07 178.44 Q2186.04 177.607 2187.22 174.505 L2187.98 172.561 L2177.5 147.052 L2182.01 147.052 L2190.11 167.329 L2198.22 147.052 L2202.73 147.052 L2191.34 175.385 Z\" fill=\"#000000\" fill-rule=\"evenodd\" fill-opacity=\"1\" /><path clip-path=\"url(#clip530)\" d=\"M 0 0 M2210.02 169.042 L2217.66 169.042 L2217.66 142.677 L2209.35 144.343 L2209.35 140.084 L2217.61 138.418 L2222.29 138.418 L2222.29 169.042 L2229.93 169.042 L2229.93 172.978 L2210.02 172.978 L2210.02 169.042 Z\" fill=\"#000000\" fill-rule=\"evenodd\" fill-opacity=\"1\" /></svg>\n"
      ]
     },
     "execution_count": 144,
     "metadata": {},
     "output_type": "execute_result"
    }
   ],
   "source": [
    "scatter(x,y)"
   ]
  },
  {
   "cell_type": "markdown",
   "id": "005eac69",
   "metadata": {},
   "source": [
    "As always, the first step is to choose our state variables. We are tracking in two dimensions and have a sensor that gives us a reading in each of those two dimensions, so we  know that we have the two *observed variables* $x$ and $y$. If we created our Kalman filter using only those two variables the performance would not be very good because we would be ignoring the information velocity can provide to us. We will want to incorporate velocity into our equations as well. I will represent this as\n",
    "\n",
    "$$\\mathbf x = \n",
    "\\begin{bmatrix}x & \\dot x & y & \\dot y\\end{bmatrix}^\\mathsf T$$\n",
    "\n",
    "There is nothing special about this organization. I could have used $\\begin{bmatrix}x & y & \\dot x &  \\dot y\\end{bmatrix}^\\mathsf T$ or something less logical. I just need to be consistent in the rest of the matrices. I like keeping positions and velocities next to each other because it keeps the covariances between positions and velocities in the same sub block of the covariance matrix. In my formulation `P[1,0]` contains the covariance of of $x$ and $\\dot x$. In the alternative formulation that covariance is at `P[2, 0]`. This gets worse as the number of dimension increases.\n",
    "\n",
    "Let's pause and address how you identify the hidden variables. This example is somewhat obvious because we've already worked through the 1D case, but other problems won't be obvious There is no easy answer to this question. The first thing to ask yourself is what is the interpretation of the first and second derivatives of the data from the sensors. We do that because obtaining the first and second derivatives is mathematically trivial if you are reading from the sensors using a fixed time step. The first derivative is just the difference between two successive readings. In our tracking case the first derivative has an obvious physical interpretation: the difference between two successive positions is velocity. \n",
    "\n",
    "Beyond this you can start looking at how you might combine the data from two or more different sensors to produce more information. This opens up the field of *sensor fusion*, and we will be covering examples of this in later sections. For now, recognize that choosing the appropriate state variables is paramount to getting the best possible performance from your filter. Once you have chosen hidden variables, you must run many tests to ensure that you are generating real results for them. The Kalman filter runs whatever model you give it; if your model cannot generate good information for the hidden variables the Kalman filter output will be nonsensical."
   ]
  },
  {
   "cell_type": "markdown",
   "id": "7c2252bf",
   "metadata": {},
   "source": [
    "### Design State Transition Function\n",
    "\n",
    "Our next step is to design the state transition function. Recall that the state transition function is implemented as a matrix $\\mathbf F$ that we multiply with the previous state of our system to get the next state, like so. \n",
    "\n",
    "$$\\mathbf{\\bar x} = \\mathbf{Fx}$$\n",
    "\n",
    "I will not belabor this as it is very similar to the 1-D case we did in the previous chapter. The state transition equations are\n",
    "\n",
    "$$\n",
    "\\begin{aligned}\n",
    "x &= 1x + \\Delta t \\dot x + 0y + 0 \\dot y \\\\\n",
    "v_x &= 0x + 1\\dot x + 0y + 0 \\dot y \\\\\n",
    "y &= 0x + 0\\dot x + 1y + \\Delta t \\dot y \\\\\n",
    "v_y &= 0x + 0\\dot x + 0y + 1 \\dot y\n",
    "\\end{aligned}\n",
    "$$\n",
    "\n",
    "Laying it out that way shows us both the values and row-column organization required for $\\small\\mathbf F$. We convert this to matrix-vector form:\n",
    "\n",
    "$$\n",
    "\\begin{bmatrix}x \\\\ \\dot x \\\\ y \\\\ \\dot y\\end{bmatrix} = \\begin{bmatrix}1& \\Delta t& 0& 0\\\\0& 1& 0& 0\\\\0& 0& 1& \\Delta t\\\\ 0& 0& 0& 1\\end{bmatrix}\\begin{bmatrix}x \\\\ \\dot x \\\\ y \\\\ \\dot y\\end{bmatrix}$$\n",
    "\n",
    "So, let's do this in Python. It is very simple; the only thing new here is setting `dim_z` to 2. We will see why it is set to 2 in step 4."
   ]
  },
  {
   "cell_type": "code",
   "execution_count": 147,
   "id": "8fd591c4",
   "metadata": {
    "scrolled": true
   },
   "outputs": [
    {
     "data": {
      "text/plain": [
       "4-element Vector{Vector{Float64}}:\n",
       " [1.0, 1.0, 0.0, 0.0]\n",
       " [0.0, 1.0, 0.0, 0.0]\n",
       " [0.0, 0.0, 1.0, 1.0]\n",
       " [0.0, 0.0, 0.0, 1.0]"
      ]
     },
     "execution_count": 147,
     "metadata": {},
     "output_type": "execute_result"
    }
   ],
   "source": [
    "dt = 1.\n",
    "\n",
    "F = [[1, dt, 0,  0],\n",
    "    [0,  1, 0,  0],\n",
    "    [0,  0, 1, dt],\n",
    "    [0,  0, 0,  1]]"
   ]
  },
  {
   "cell_type": "markdown",
   "id": "46dc6185",
   "metadata": {},
   "source": [
    "### Design the Process Noise Matrix\n",
    "\n",
    "FilterPy can compute the $\\mathbf Q$ matrix for us. For simplicity I will assume the noise is a discrete time Wiener process - that it is constant for each time period. This assumption allows me to use a variance to specify how much I think the model changes between steps. Revisit the Kalman Filter Math chapter if this is not clear."
   ]
  },
  {
   "cell_type": "code",
   "execution_count": 171,
   "id": "ae4dbd13",
   "metadata": {
    "scrolled": true
   },
   "outputs": [
    {
     "data": {
      "text/plain": [
       "2×2 Matrix{Matrix{Float64}}:\n",
       " [2.5e-5]  [0.0005]\n",
       " [0.0005]  [0.01]"
      ]
     },
     "execution_count": 171,
     "metadata": {},
     "output_type": "execute_result"
    }
   ],
   "source": [
    "\n",
    "G = [[0.5*dt^2],[dt]]\n",
    "Q = G*transpose(G)*var\n",
    "q = G*transpose(G)\n",
    "Z = [[0.0],[0.0]]*transpose([[0.0],[0.0]])\n",
    "New = BlockArray{Matrix{Float64}}(undef_blocks, [2,2],[2,2])\n",
    "setblock!(New, q, 1,1)\n",
    "setblock!(New, q, 2,2)\n",
    "setblock!(New, Z, 1,2)\n",
    "setblock!(New, Z, 2,1)\n",
    "Q = New\n",
    "\n",
    "# Q = [[0.0, 0.001, 0.0,    0.0   ],\n",
    "#      [0.001, 0.001, 0.  ,  0.0   ],\n",
    "#      [0.0,    0.0  ,  0.0  ,  0.001],\n",
    "#      [0.0  ,  0.0  ,  0.001 ,0.001]]"
   ]
  },
  {
   "cell_type": "code",
   "execution_count": 208,
   "id": "2deb7086",
   "metadata": {},
   "outputs": [
    {
     "data": {
      "text/plain": [
       "2×2-blocked 4×4 BlockArray{Matrix{Float64},2}:\n",
       " [2.5e-5]  [0.0005]  │  [0.0]     [0.0]   \n",
       " [0.0005]  [0.01]    │  [0.0]     [0.0]   \n",
       " ────────────────────┼────────────────────\n",
       " [0.0]     [0.0]     │  [2.5e-5]  [0.0005]\n",
       " [0.0]     [0.0]     │  [0.0005]  [0.01]  "
      ]
     },
     "execution_count": 208,
     "metadata": {},
     "output_type": "execute_result"
    }
   ],
   "source": [
    "New"
   ]
  },
  {
   "cell_type": "code",
   "execution_count": 158,
   "id": "3552e186",
   "metadata": {},
   "outputs": [],
   "source": [
    "#above matrix is to be noticed carefully"
   ]
  },
  {
   "cell_type": "markdown",
   "id": "3e8c472c",
   "metadata": {},
   "source": [
    "Here I assume the noise in x and y are independent, so the covariances between any x and y variable should be zero. This allows me to compute $\\mathbf Q$ for one dimension, and then use `block_diag` to copy it for the x and y axis."
   ]
  },
  {
   "cell_type": "markdown",
   "id": "f3701681",
   "metadata": {},
   "source": [
    "### Design the Control Function\n",
    "\n",
    "We haven't yet added controls to our robot, so there is nothing to be done for this step. The `KalmanFilter` class initializes `B` to zero under the assumption that there is no control input,\n",
    "so there is no code to write. If you like, you can be explicit and set `tracker.B` to 0, but as you can see it already has that value."
   ]
  },
  {
   "cell_type": "code",
   "execution_count": 148,
   "id": "c3c9611a",
   "metadata": {},
   "outputs": [
    {
     "data": {
      "text/plain": [
       "0"
      ]
     },
     "execution_count": 148,
     "metadata": {},
     "output_type": "execute_result"
    }
   ],
   "source": [
    "B = 0"
   ]
  },
  {
   "cell_type": "markdown",
   "id": "58f8be8a",
   "metadata": {},
   "source": [
    "### Design the Measurement Function\n",
    "\n",
    "The measurement function $\\mathbf H$ defines how we go from the state variables to the measurements using the equation $\\mathbf z = \\mathbf{Hx}$. In this case we have measurements for (x,y), so we will design $\\mathbf z$ as $\\begin{bmatrix}x & y\\end{bmatrix}^\\mathsf T$ which is dimension 2x1. Our state variable is size 4x1. We can deduce the required size for $\\textbf{H}$ by recalling that multiplying a matrix of size MxN by NxP yields a matrix of size MxP. Thus,\n",
    "\n",
    "$$(2\\times 1) = (a\\times b)(4 \\times 1) = (2\\times 4)(4\\times 1)$$\n",
    "\n",
    "So, $\\textbf{H}$ is 2x4.\n",
    "\n",
    "Filling in the values for $\\textbf{H}$ is easy because the measurement is the position of the robot, which is the $x$ and $y$ variables of the state $\\textbf{x}$. Let's make this slightly more interesting by deciding we want to change units. The measurements are returned in feet, and that we desire to work in meters. $\\textbf{H}$ changes from state to measurement, so the conversion is $\\mathsf{feet} = \\mathsf{meters} / 0.3048$. This yields\n",
    "\n",
    "$$\\mathbf H =\n",
    "\\begin{bmatrix} \n",
    "\\frac{1}{0.3048} & 0 & 0 & 0 \\\\\n",
    "0 & 0 & \\frac{1}{0.3048} & 0\n",
    "\\end{bmatrix}\n",
    "$$\n",
    "\n",
    "which corresponds to these linear equations\n",
    "\n",
    "$$\n",
    "\\begin{aligned}\n",
    "z_x &= (\\frac{x}{0.3048}) + (0* v_x) + (0*y) + (0 * v_y) = \\frac{x}{0.3048}\\\\\n",
    "z_y &= (0*x) + (0* v_x) + (\\frac{y}{0.3048}) + (0 * v_y) = \\frac{y}{0.3048}\n",
    "\\end{aligned}\n",
    "$$\n",
    "\n",
    "This is a simple problem, and we could have found the equations directly without going through the dimensional analysis that I did above. But it is useful to remember that the equations of the Kalman filter imply a specific dimensionality for all of the matrices, and when I start to get lost as to how to design something it is useful to look at the matrix dimensions.\n",
    "\n",
    "Here is my implementation:"
   ]
  },
  {
   "cell_type": "code",
   "execution_count": 149,
   "id": "4fb7bc4a",
   "metadata": {},
   "outputs": [
    {
     "data": {
      "text/plain": [
       "2-element Vector{Vector{Float64}}:\n",
       " [3.280839895013123, 0.0, 0.0, 0.0]\n",
       " [0.0, 0.0, 3.280839895013123, 0.0]"
      ]
     },
     "execution_count": 149,
     "metadata": {},
     "output_type": "execute_result"
    }
   ],
   "source": [
    "H = [[1/0.3048, 0, 0,        0],\n",
    "    [0,        0, 1/0.3048, 0]]"
   ]
  },
  {
   "cell_type": "markdown",
   "id": "2c1ddffc",
   "metadata": {},
   "source": [
    "### Design the Measurement Noise Matrix\n",
    "\n",
    "We assume that the $x$ and $y$ variables are independent white Gaussian processes. That is, the noise in x is not in any way dependent on the noise in y, and the noise is normally distributed about the mean 0. For now let's set the variance for $x$ and $y$ to be 5 meters$^2$. They are independent, so there is no covariance, and our off diagonals will be 0. This gives us:\n",
    "\n",
    "$$\\mathbf R = \\begin{bmatrix}\\sigma_x^2 & \\sigma_y\\sigma_x \\\\ \\sigma_x\\sigma_y & \\sigma_{y}^2\\end{bmatrix} \n",
    "= \\begin{bmatrix}5&0\\\\0&5\\end{bmatrix}$$\n",
    "\n",
    "It is a $2{\\times}2$ matrix because we have 2 sensor inputs, and covariance matrices are always of size $n{\\times}n$ for $n$ variables. In Python we write:"
   ]
  },
  {
   "cell_type": "code",
   "execution_count": 150,
   "id": "b7f76c37",
   "metadata": {},
   "outputs": [
    {
     "data": {
      "text/plain": [
       "2-element Vector{Vector{Float64}}:\n",
       " [5.0, 0.0]\n",
       " [0.0, 5.0]"
      ]
     },
     "execution_count": 150,
     "metadata": {},
     "output_type": "execute_result"
    }
   ],
   "source": [
    "R = [[5., 0],\n",
    "    [0, 5]]"
   ]
  },
  {
   "cell_type": "markdown",
   "id": "b2a7efb1",
   "metadata": {},
   "source": [
    "### Initial Conditions\n",
    "For our simple problem we will set the initial position at (0,0) with a velocity of (0,0). Since that is a pure guess, we will set the covariance matrix $\\small\\mathbf P$ to a large value.\n",
    "\n",
    "$$ \\mathbf x = \\begin{bmatrix}0\\\\0\\\\0\\\\0\\end{bmatrix}, \\,\n",
    "\\mathbf P = \\begin{bmatrix}500&0&0&0\\\\0&500&0&0\\\\0&0&500&0\\\\0&0&0&500\\end{bmatrix}$$\n",
    "\n",
    "The Python implementation is"
   ]
  },
  {
   "cell_type": "code",
   "execution_count": 152,
   "id": "b9d5da2a",
   "metadata": {},
   "outputs": [
    {
     "data": {
      "text/plain": [
       "UniformScaling{Int64}\n",
       "500*I"
      ]
     },
     "execution_count": 152,
     "metadata": {},
     "output_type": "execute_result"
    }
   ],
   "source": [
    "x = transpose([[0, 0, 0, 0]])\n",
    "P = I*500"
   ]
  },
  {
   "cell_type": "markdown",
   "id": "4db14af9",
   "metadata": {},
   "source": [
    "### Implement the Filter\n",
    "Design is complete, now we just have to write the code to run the filter and output the data in the format of our choice. We will run the code for 30 iterations."
   ]
  },
  {
   "cell_type": "code",
   "execution_count": null,
   "id": "1ab0e9ca",
   "metadata": {},
   "outputs": [],
   "source": [
    "R_std = 0.35\n",
    "Q_std = 0.04\n",
    "\n",
    "function tracker1()\n",
    "    \n",
    "    dt = 1.0\n",
    "    \n",
    "    F = [[1, dt, 0,  0],\n",
    "    [0,  1, 0,  0],\n",
    "    [0,  0, 1, dt],\n",
    "    [0,  0, 0,  1]]\n",
    "    \n",
    "    u = 0\n",
    "    \n",
    "    H = [[1/0.3048, 0, 0,        0],\n",
    "    [0,        0, 1/0.3048, 0]]\n",
    "    \n",
    "    R = I*R_std^2\n",
    "    G = [[0.5*dt^2],[dt]]\n",
    "    Q = G*transpose(G)*var\n",
    "    q = G*transpose(G)\n",
    "    Z = [[0.0],[0.0]]*transpose([[0.0],[0.0]])\n",
    "    New = BlockArray{Matrix{Float64}}(undef_blocks, [2,2],[2,2])\n",
    "    setblock!(New, q, 1,1)\n",
    "    setblock!(New, q, 2,2)\n",
    "    setblock!(New, Z, 1,2)\n",
    "    setblock!(New, Z, 2,1)\n",
    "    Q = New\n",
    "    x = transpose([[0, 0, 0, 0]])\n",
    "    P = I*500\n",
    "    \n",
    "    \n",
    "    \n",
    "end"
   ]
  },
  {
   "cell_type": "code",
   "execution_count": null,
   "id": "9a972e48",
   "metadata": {},
   "outputs": [],
   "source": []
  },
  {
   "cell_type": "code",
   "execution_count": null,
   "id": "92164c71",
   "metadata": {},
   "outputs": [],
   "source": []
  },
  {
   "cell_type": "code",
   "execution_count": null,
   "id": "f2387021",
   "metadata": {},
   "outputs": [],
   "source": []
  },
  {
   "cell_type": "code",
   "execution_count": null,
   "id": "dae04b07",
   "metadata": {},
   "outputs": [],
   "source": []
  },
  {
   "cell_type": "code",
   "execution_count": null,
   "id": "3c88cdfb",
   "metadata": {},
   "outputs": [],
   "source": []
  },
  {
   "cell_type": "code",
   "execution_count": null,
   "id": "a241d531",
   "metadata": {},
   "outputs": [],
   "source": []
  },
  {
   "cell_type": "code",
   "execution_count": null,
   "id": "bf01932c",
   "metadata": {},
   "outputs": [],
   "source": []
  },
  {
   "cell_type": "code",
   "execution_count": null,
   "id": "102aa407",
   "metadata": {},
   "outputs": [],
   "source": []
  },
  {
   "cell_type": "code",
   "execution_count": null,
   "id": "ffe0982b",
   "metadata": {},
   "outputs": [],
   "source": []
  },
  {
   "cell_type": "code",
   "execution_count": null,
   "id": "dd08a7c0",
   "metadata": {},
   "outputs": [],
   "source": []
  }
 ],
 "metadata": {
  "kernelspec": {
   "display_name": "Julia 1.6.0",
   "language": "julia",
   "name": "julia-1.6"
  },
  "language_info": {
   "file_extension": ".jl",
   "mimetype": "application/julia",
   "name": "julia",
   "version": "1.6.0"
  }
 },
 "nbformat": 4,
 "nbformat_minor": 5
}
